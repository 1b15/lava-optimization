{
 "cells": [
  {
   "cell_type": "code",
   "execution_count": 1,
   "id": "a0864507",
   "metadata": {},
   "outputs": [
    {
     "name": "stdout",
     "output_type": "stream",
     "text": [
      "Per core distribution:\n",
      "----------------------------------------------------------------\n",
      "| AxonIn |NeuronGr| Neurons|Synapses| AxonMap| AxonMem|  Cores |\n",
      "|--------------------------------------------------------------|\n",
      "|     200|       1|       1|     200|       1|       0|       1|\n",
      "|     200|       1|     400|    9600|     400|       0|       1|\n",
      "|--------------------------------------------------------------|\n",
      "| Total                                               |       2|\n",
      "----------------------------------------------------------------\n",
      "{'solved': array([False]), 'best_state': array([-1., -1., -1., -1., -1., -1., -1., -1., -1., -1., -1., -1., -1.,\n",
      "       -1., -1., -1., -1., -1., -1., -1., -1., -1., -1., -1., -1., -1.,\n",
      "       -1., -1., -1., -1., -1., -1., -1., -1., -1., -1., -1., -1., -1.,\n",
      "       -1., -1., -1., -1., -1., -1., -1., -1., -1., -1., -1., -1., -1.,\n",
      "       -1., -1., -1., -1., -1., -1., -1., -1., -1., -1., -1., -1., -1.,\n",
      "       -1., -1., -1., -1., -1., -1., -1., -1., -1., -1., -1., -1., -1.,\n",
      "       -1., -1., -1., -1., -1., -1., -1., -1., -1., -1., -1., -1., -1.,\n",
      "       -1., -1., -1., -1., -1., -1., -1., -1., -1., -1., -1., -1., -1.,\n",
      "       -1., -1., -1., -1., -1., -1., -1., -1., -1., -1., -1., -1., -1.,\n",
      "       -1., -1., -1., -1., -1., -1., -1., -1., -1., -1., -1., -1., -1.,\n",
      "       -1., -1., -1., -1., -1., -1., -1., -1., -1., -1., -1., -1., -1.,\n",
      "       -1., -1., -1., -1., -1., -1., -1., -1., -1., -1., -1., -1., -1.,\n",
      "       -1., -1., -1., -1., -1., -1., -1., -1., -1., -1., -1., -1., -1.,\n",
      "       -1., -1., -1., -1., -1., -1., -1., -1., -1., -1., -1., -1., -1.,\n",
      "       -1., -1., -1., -1., -1., -1., -1., -1., -1., -1., -1., -1., -1.,\n",
      "       -1., -1., -1., -1., -1.]), 'cost': array([-1], dtype=int32), 'target_cost': -480, 'steps_to_solution': array([-1.]), 'time_to_solution': 0.0, 'energy_to_solution': None}\n",
      "\n",
      "Lava solved the workload in 0.0s\n"
     ]
    }
   ],
   "source": [
    "from lava.lib.optimization.problems.problems import QUBO\n",
    "from lava.lib.optimization.solvers.generic.solver import OptimizationSolver\n",
    "import os\n",
    "import numpy as np\n",
    "from lava.utils.system import Loihi2\n",
    "from lava.lib.optimization.utils.generators.mis import MISProblem\n",
    "\n",
    "Loihi2.set_environ_settings(partititon=\"kp\")\n",
    "loihi2_is_available = Loihi2.is_loihi2_available\n",
    "mis = MISProblem(num_vertices=200, connection_prob=0.9, seed=6701)\n",
    "q = mis.get_qubo_matrix(w_diag=120, w_off=320)\n",
    "qubo_problem = QUBO(q)\n",
    "solution_opt = mis.find_maximum_independent_set()\n",
    "cost_opt = qubo_problem.evaluate_cost(solution=solution_opt)\n",
    "solver = OptimizationSolver(qubo_problem)\n",
    "\n",
    "hyperparameters_opt = {'steps_to_fire': 191,\n",
    " 'noise_amplitude': 9,\n",
    " 'noise_precision': 9,\n",
    " 'step_size': 1510}\n",
    "\n",
    "solver.measure_time_to_solution(\n",
    "    timeout=60000,\n",
    "    target_cost=-1000,\n",
    "    backend='Loihi2',\n",
    "    hyperparameters=hyperparameters_opt)\n",
    "\n",
    "print(f\"\\nLava solved the workload in {solver.last_run_report['time_to_solution']}s\")\n",
    "\n",
    "print(f\"THIS SHOULDN'T BE EMPTY {solver._profiler.execution_time}\")\n"
   ]
  },
  {
   "cell_type": "markdown",
   "id": "501a1778",
   "metadata": {},
   "source": [
    "**What happens is that, when profiler nees to flush the buffer, the whole execution is stopped.\n",
    "The correct execution for this timeout should be:**\n",
    "```bash\n",
    "----------------------------------------------------------------\n",
    "| AxonIn |NeuronGr| Neurons|Synapses| AxonMap| AxonMem|  Cores |\n",
    "|--------------------------------------------------------------|\n",
    "|     200|       1|       1|     200|       1|       0|       1|\n",
    "|     200|       1|     400|    9600|     400|       0|       1|\n",
    "|--------------------------------------------------------------|\n",
    "| Total                                               |       2|\n",
    "----------------------------------------------------------------\n",
    "Host: received a better solution: [0 0 0 0 0 0 0 0 0 0 0 0 0 0 0 1 0 0 0 0 0 0 0 0 0 0 0 0 0 0 0 0 0 0 0 0 0\n",
    " 0 0 0 0 0 0 0 0 0 0 0 0 0 0 0 0 0 0 0 0 0 0 0 0 0 0 0 0 0 0 0 0 0 0 0 0 0\n",
    " 0 0 0 0 0 0 0 0 0 0 0 0 0 0 0 0 0 0 0 0 0 0 0 0 0 0 0 0 0 0 0 0 0 0 0 0 0\n",
    " 0 0 0 0 0 0 0 0 0 0 0 0 0 0 0 0 0 0 0 0 0 0 0 0 0 0 0 0 0 0 0 0 0 0 0 0 0\n",
    " 0 0 0 0 0 0 0 0 0 0 0 0 0 0 0 0 0 0 0 0 0 0 0 0 0 0 0 0 0 0 0 0 0 0 0 0 0\n",
    " 0 0 0 0 0 0 0 0 0 0 0 0 0 0 0] at step 489\n",
    "Host: received a better solution: [0 1 0 0 0 0 0 0 0 0 0 0 0 0 0 0 0 0 0 0 0 0 0 0 0 0 0 0 0 0 0 0 0 0 0 0 0\n",
    " 0 0 0 0 0 0 0 0 0 0 0 0 0 0 0 0 0 0 0 0 0 0 0 0 0 0 0 0 0 0 0 0 0 0 0 0 0\n",
    " 0 0 0 0 0 0 0 0 0 0 0 0 0 0 0 0 0 0 0 0 0 0 0 0 0 0 0 0 0 0 0 0 0 0 0 0 0\n",
    " 0 0 0 0 0 1 0 0 0 0 0 0 0 0 0 0 0 0 0 0 0 0 0 0 0 0 0 0 0 0 0 0 0 0 0 0 0\n",
    " 0 0 0 0 0 0 0 0 0 0 0 0 0 0 0 0 0 0 0 0 0 0 0 0 0 0 0 0 0 0 0 0 0 0 0 0 0\n",
    " 0 0 0 0 0 0 0 0 0 0 0 0 0 0 0] at step 490\n",
    "{'solved': array([False]), 'best_state': array([0., 1., 0., 0., 0., 0., 0., 0., 0., 0., 0., 0., 0., 0., 0., 0., 0.,\n",
    "       0., 0., 0., 0., 0., 0., 0., 0., 0., 0., 0., 0., 0., 0., 0., 0., 0.,\n",
    "       0., 0., 0., 0., 0., 0., 0., 0., 0., 0., 0., 0., 0., 0., 0., 0., 0.,\n",
    "       0., 0., 0., 0., 0., 0., 0., 0., 0., 0., 0., 0., 0., 0., 0., 0., 0.,\n",
    "       0., 0., 0., 0., 0., 0., 0., 0., 0., 0., 0., 0., 0., 0., 0., 0., 0.,\n",
    "       0., 0., 0., 0., 0., 0., 0., 0., 0., 0., 0., 0., 0., 0., 0., 0., 0.,\n",
    "       0., 0., 0., 0., 0., 0., 0., 0., 0., 0., 0., 0., 0., 0., 1., 0., 0.,\n",
    "       0., 0., 0., 0., 0., 0., 0., 0., 0., 0., 0., 0., 0., 0., 0., 0., 0.,\n",
    "       0., 0., 0., 0., 0., 0., 0., 0., 0., 0., 0., 0., 0., 0., 0., 0., 0.,\n",
    "       0., 0., 0., 0., 0., 0., 0., 0., 0., 0., 0., 0., 0., 0., 0., 0., 0.,\n",
    "       0., 0., 0., 0., 0., 0., 0., 0., 0., 0., 0., 0., 0., 0., 0., 0., 0.,\n",
    "       0., 0., 0., 0., 0., 0., 0., 0., 0., 0., 0., 0., 0.]), 'cost': array([-240], dtype=int32), 'target_cost': -1000, 'steps_to_solution': array([490.]), 'time_to_solution': 0.0, 'energy_to_solution': None}\n",
    "```"
   ]
  },
  {
   "cell_type": "markdown",
   "id": "a8408a77",
   "metadata": {},
   "source": []
  }
 ],
 "metadata": {
  "kernelspec": {
   "display_name": "Python 3.8.10 ('venv': venv)",
   "language": "python",
   "name": "python3"
  },
  "language_info": {
   "codemirror_mode": {
    "name": "ipython",
    "version": 3
   },
   "file_extension": ".py",
   "mimetype": "text/x-python",
   "name": "python",
   "nbconvert_exporter": "python",
   "pygments_lexer": "ipython3",
   "version": "3.8.10"
  },
  "vscode": {
   "interpreter": {
    "hash": "6535c98558be5c4adc0f0962410da8dc4c26d3137971044820461d07ef16443d"
   }
  }
 },
 "nbformat": 4,
 "nbformat_minor": 5
}
